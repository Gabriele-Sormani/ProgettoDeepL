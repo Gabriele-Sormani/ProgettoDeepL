{
 "nbformat": 4,
 "nbformat_minor": 0,
 "metadata": {
  "colab": {
   "provenance": []
  },
  "kernelspec": {
   "name": "python3",
   "language": "python",
   "display_name": "Python 3 (ipykernel)"
  },
  "language_info": {
   "name": "python"
  }
 },
 "cells": [
  {
   "cell_type": "code",
   "execution_count": 20,
   "metadata": {
    "id": "N8KhpvAEFos-",
    "ExecuteTime": {
     "end_time": "2024-06-10T10:09:38.907537400Z",
     "start_time": "2024-06-10T10:09:35.919067800Z"
    }
   },
   "outputs": [
    {
     "name": "stdout",
     "output_type": "stream",
     "text": [
      "Requirement already satisfied: tensorflow==2.16.1 in c:\\users\\gabri\\pycharmprojects\\deeplproject\\venv\\lib\\site-packages (2.16.1)\n",
      "Requirement already satisfied: tensorflow-intel==2.16.1 in c:\\users\\gabri\\pycharmprojects\\deeplproject\\venv\\lib\\site-packages (from tensorflow==2.16.1) (2.16.1)\n",
      "Requirement already satisfied: absl-py>=1.0.0 in c:\\users\\gabri\\pycharmprojects\\deeplproject\\venv\\lib\\site-packages (from tensorflow-intel==2.16.1->tensorflow==2.16.1) (2.1.0)\n",
      "Requirement already satisfied: astunparse>=1.6.0 in c:\\users\\gabri\\pycharmprojects\\deeplproject\\venv\\lib\\site-packages (from tensorflow-intel==2.16.1->tensorflow==2.16.1) (1.6.3)\n",
      "Requirement already satisfied: flatbuffers>=23.5.26 in c:\\users\\gabri\\pycharmprojects\\deeplproject\\venv\\lib\\site-packages (from tensorflow-intel==2.16.1->tensorflow==2.16.1) (24.3.25)\n",
      "Requirement already satisfied: gast!=0.5.0,!=0.5.1,!=0.5.2,>=0.2.1 in c:\\users\\gabri\\pycharmprojects\\deeplproject\\venv\\lib\\site-packages (from tensorflow-intel==2.16.1->tensorflow==2.16.1) (0.5.4)\n",
      "Requirement already satisfied: google-pasta>=0.1.1 in c:\\users\\gabri\\pycharmprojects\\deeplproject\\venv\\lib\\site-packages (from tensorflow-intel==2.16.1->tensorflow==2.16.1) (0.2.0)\n",
      "Requirement already satisfied: h5py>=3.10.0 in c:\\users\\gabri\\pycharmprojects\\deeplproject\\venv\\lib\\site-packages (from tensorflow-intel==2.16.1->tensorflow==2.16.1) (3.11.0)\n",
      "Requirement already satisfied: libclang>=13.0.0 in c:\\users\\gabri\\pycharmprojects\\deeplproject\\venv\\lib\\site-packages (from tensorflow-intel==2.16.1->tensorflow==2.16.1) (18.1.1)\n",
      "Requirement already satisfied: ml-dtypes~=0.3.1 in c:\\users\\gabri\\pycharmprojects\\deeplproject\\venv\\lib\\site-packages (from tensorflow-intel==2.16.1->tensorflow==2.16.1) (0.3.2)\n",
      "Requirement already satisfied: opt-einsum>=2.3.2 in c:\\users\\gabri\\pycharmprojects\\deeplproject\\venv\\lib\\site-packages (from tensorflow-intel==2.16.1->tensorflow==2.16.1) (3.3.0)\n",
      "Requirement already satisfied: packaging in c:\\users\\gabri\\pycharmprojects\\deeplproject\\venv\\lib\\site-packages (from tensorflow-intel==2.16.1->tensorflow==2.16.1) (24.0)\n",
      "Requirement already satisfied: protobuf!=4.21.0,!=4.21.1,!=4.21.2,!=4.21.3,!=4.21.4,!=4.21.5,<5.0.0dev,>=3.20.3 in c:\\users\\gabri\\pycharmprojects\\deeplproject\\venv\\lib\\site-packages (from tensorflow-intel==2.16.1->tensorflow==2.16.1) (4.25.3)\n",
      "Requirement already satisfied: requests<3,>=2.21.0 in c:\\users\\gabri\\pycharmprojects\\deeplproject\\venv\\lib\\site-packages (from tensorflow-intel==2.16.1->tensorflow==2.16.1) (2.32.3)\n",
      "Requirement already satisfied: setuptools in c:\\users\\gabri\\pycharmprojects\\deeplproject\\venv\\lib\\site-packages (from tensorflow-intel==2.16.1->tensorflow==2.16.1) (68.2.0)\n",
      "Requirement already satisfied: six>=1.12.0 in c:\\users\\gabri\\pycharmprojects\\deeplproject\\venv\\lib\\site-packages (from tensorflow-intel==2.16.1->tensorflow==2.16.1) (1.16.0)\n",
      "Requirement already satisfied: termcolor>=1.1.0 in c:\\users\\gabri\\pycharmprojects\\deeplproject\\venv\\lib\\site-packages (from tensorflow-intel==2.16.1->tensorflow==2.16.1) (2.4.0)\n",
      "Requirement already satisfied: typing-extensions>=3.6.6 in c:\\users\\gabri\\pycharmprojects\\deeplproject\\venv\\lib\\site-packages (from tensorflow-intel==2.16.1->tensorflow==2.16.1) (4.12.1)\n",
      "Requirement already satisfied: wrapt>=1.11.0 in c:\\users\\gabri\\pycharmprojects\\deeplproject\\venv\\lib\\site-packages (from tensorflow-intel==2.16.1->tensorflow==2.16.1) (1.16.0)\n",
      "Requirement already satisfied: grpcio<2.0,>=1.24.3 in c:\\users\\gabri\\pycharmprojects\\deeplproject\\venv\\lib\\site-packages (from tensorflow-intel==2.16.1->tensorflow==2.16.1) (1.64.1)\n",
      "Requirement already satisfied: tensorboard<2.17,>=2.16 in c:\\users\\gabri\\pycharmprojects\\deeplproject\\venv\\lib\\site-packages (from tensorflow-intel==2.16.1->tensorflow==2.16.1) (2.16.2)\n",
      "Requirement already satisfied: keras>=3.0.0 in c:\\users\\gabri\\pycharmprojects\\deeplproject\\venv\\lib\\site-packages (from tensorflow-intel==2.16.1->tensorflow==2.16.1) (3.3.3)\n",
      "Requirement already satisfied: tensorflow-io-gcs-filesystem>=0.23.1 in c:\\users\\gabri\\pycharmprojects\\deeplproject\\venv\\lib\\site-packages (from tensorflow-intel==2.16.1->tensorflow==2.16.1) (0.31.0)\n",
      "Requirement already satisfied: numpy<2.0.0,>=1.23.5 in c:\\users\\gabri\\pycharmprojects\\deeplproject\\venv\\lib\\site-packages (from tensorflow-intel==2.16.1->tensorflow==2.16.1) (1.26.4)\n",
      "Requirement already satisfied: wheel<1.0,>=0.23.0 in c:\\users\\gabri\\pycharmprojects\\deeplproject\\venv\\lib\\site-packages (from astunparse>=1.6.0->tensorflow-intel==2.16.1->tensorflow==2.16.1) (0.41.2)\n",
      "Requirement already satisfied: rich in c:\\users\\gabri\\pycharmprojects\\deeplproject\\venv\\lib\\site-packages (from keras>=3.0.0->tensorflow-intel==2.16.1->tensorflow==2.16.1) (13.7.1)\n",
      "Requirement already satisfied: namex in c:\\users\\gabri\\pycharmprojects\\deeplproject\\venv\\lib\\site-packages (from keras>=3.0.0->tensorflow-intel==2.16.1->tensorflow==2.16.1) (0.0.8)\n",
      "Requirement already satisfied: optree in c:\\users\\gabri\\pycharmprojects\\deeplproject\\venv\\lib\\site-packages (from keras>=3.0.0->tensorflow-intel==2.16.1->tensorflow==2.16.1) (0.11.0)\n",
      "Requirement already satisfied: charset-normalizer<4,>=2 in c:\\users\\gabri\\pycharmprojects\\deeplproject\\venv\\lib\\site-packages (from requests<3,>=2.21.0->tensorflow-intel==2.16.1->tensorflow==2.16.1) (3.3.2)\n",
      "Requirement already satisfied: idna<4,>=2.5 in c:\\users\\gabri\\pycharmprojects\\deeplproject\\venv\\lib\\site-packages (from requests<3,>=2.21.0->tensorflow-intel==2.16.1->tensorflow==2.16.1) (3.7)\n",
      "Requirement already satisfied: urllib3<3,>=1.21.1 in c:\\users\\gabri\\pycharmprojects\\deeplproject\\venv\\lib\\site-packages (from requests<3,>=2.21.0->tensorflow-intel==2.16.1->tensorflow==2.16.1) (2.2.1)\n",
      "Requirement already satisfied: certifi>=2017.4.17 in c:\\users\\gabri\\pycharmprojects\\deeplproject\\venv\\lib\\site-packages (from requests<3,>=2.21.0->tensorflow-intel==2.16.1->tensorflow==2.16.1) (2024.6.2)\n",
      "Requirement already satisfied: markdown>=2.6.8 in c:\\users\\gabri\\pycharmprojects\\deeplproject\\venv\\lib\\site-packages (from tensorboard<2.17,>=2.16->tensorflow-intel==2.16.1->tensorflow==2.16.1) (3.6)\n",
      "Requirement already satisfied: tensorboard-data-server<0.8.0,>=0.7.0 in c:\\users\\gabri\\pycharmprojects\\deeplproject\\venv\\lib\\site-packages (from tensorboard<2.17,>=2.16->tensorflow-intel==2.16.1->tensorflow==2.16.1) (0.7.2)\n",
      "Requirement already satisfied: werkzeug>=1.0.1 in c:\\users\\gabri\\pycharmprojects\\deeplproject\\venv\\lib\\site-packages (from tensorboard<2.17,>=2.16->tensorflow-intel==2.16.1->tensorflow==2.16.1) (3.0.3)\n",
      "Requirement already satisfied: importlib-metadata>=4.4 in c:\\users\\gabri\\pycharmprojects\\deeplproject\\venv\\lib\\site-packages (from markdown>=2.6.8->tensorboard<2.17,>=2.16->tensorflow-intel==2.16.1->tensorflow==2.16.1) (7.1.0)\n",
      "Requirement already satisfied: MarkupSafe>=2.1.1 in c:\\users\\gabri\\pycharmprojects\\deeplproject\\venv\\lib\\site-packages (from werkzeug>=1.0.1->tensorboard<2.17,>=2.16->tensorflow-intel==2.16.1->tensorflow==2.16.1) (2.1.5)\n",
      "Requirement already satisfied: markdown-it-py>=2.2.0 in c:\\users\\gabri\\pycharmprojects\\deeplproject\\venv\\lib\\site-packages (from rich->keras>=3.0.0->tensorflow-intel==2.16.1->tensorflow==2.16.1) (3.0.0)\n",
      "Requirement already satisfied: pygments<3.0.0,>=2.13.0 in c:\\users\\gabri\\pycharmprojects\\deeplproject\\venv\\lib\\site-packages (from rich->keras>=3.0.0->tensorflow-intel==2.16.1->tensorflow==2.16.1) (2.18.0)\n",
      "Requirement already satisfied: zipp>=0.5 in c:\\users\\gabri\\pycharmprojects\\deeplproject\\venv\\lib\\site-packages (from importlib-metadata>=4.4->markdown>=2.6.8->tensorboard<2.17,>=2.16->tensorflow-intel==2.16.1->tensorflow==2.16.1) (3.19.0)\n",
      "Requirement already satisfied: mdurl~=0.1 in c:\\users\\gabri\\pycharmprojects\\deeplproject\\venv\\lib\\site-packages (from markdown-it-py>=2.2.0->rich->keras>=3.0.0->tensorflow-intel==2.16.1->tensorflow==2.16.1) (0.1.2)\n"
     ]
    },
    {
     "name": "stderr",
     "output_type": "stream",
     "text": [
      "WARNING: Ignoring invalid distribution -ensorflow-intel (c:\\users\\gabri\\pycharmprojects\\deeplproject\\venv\\lib\\site-packages)\n",
      "WARNING: Ignoring invalid distribution -ensorflow-intel (c:\\users\\gabri\\pycharmprojects\\deeplproject\\venv\\lib\\site-packages)\n",
      "\n",
      "[notice] A new release of pip is available: 23.2.1 -> 24.0\n",
      "[notice] To update, run: python.exe -m pip install --upgrade pip\n"
     ]
    }
   ],
   "source": [
    "!pip install tensorflow==2.16.1\n",
    "import tensorflow as tf\n",
    "from matplotlib import pyplot as plt\n",
    "import zipfile\n",
    "from shutil import copyfile\n",
    "from time import time\n",
    "import numpy as np\n",
    "import os\n",
    "import random\n",
    "import nibabel as nib"
   ]
  },
  {
   "cell_type": "code",
   "execution_count": 21,
   "outputs": [],
   "source": [
    "def read_single_mri(path):\n",
    "    mri = nib.load(path)\n",
    "    mri = mri.get_fdata()\n",
    "    return mri\n",
    "\n",
    "\n",
    "def find_file_names(directory):\n",
    "    filenames = os.listdir(directory)\n",
    "    filenames = [n for n in filenames if '._' not in n]\n",
    "    return filenames\n",
    "\n",
    "def resize_label(image):\n",
    "    new_image = np.zeros((128, 128, 128))\n",
    "    new_image[:, :, :] = image[56:184, 56:184, 13:141]\n",
    "    return new_image\n",
    "\n",
    "def resize_image(image):\n",
    "    new_image = np.zeros((128, 128, 128, 4))\n",
    "    new_image[:, :, :, 0] = image[56:184, 56:184, 13:141, 0]\n",
    "    new_image[:, :, :, 1] = image[56:184, 56:184, 13:141, 1]\n",
    "    new_image[:, :, :, 2] = image[56:184, 56:184, 13:141, 2]\n",
    "    new_image[:, :, :, 3] = image[56:184, 56:184, 13:141, 3]\n",
    "    return new_image"
   ],
   "metadata": {
    "collapsed": false,
    "ExecuteTime": {
     "end_time": "2024-06-10T10:09:38.998166600Z",
     "start_time": "2024-06-10T10:09:38.918648100Z"
    }
   }
  },
  {
   "cell_type": "code",
   "execution_count": 22,
   "outputs": [],
   "source": [
    "def calculate_tumor_ratio_2d(images):\n",
    "   \n",
    "    unique_values = np.zeros(4)\n",
    "    for im in images:\n",
    "        unique_values_img = np.unique(im, return_counts=True)[1]\n",
    "        if len(unique_values_img) == 3:\n",
    "            unique_values_img = np.append(unique_values_img, 0)\n",
    "        if len(unique_values_img) == 2:\n",
    "            unique_values_img = np.append(unique_values_img, np.zeros(2))\n",
    "        if len(unique_values_img) == 1:\n",
    "            unique_values_img = np.append(unique_values_img, np.zeros(3))\n",
    "        unique_values = unique_values + unique_values_img\n",
    "\n",
    "    print(unique_values / sum(unique_values))"
   ],
   "metadata": {
    "collapsed": false,
    "ExecuteTime": {
     "end_time": "2024-06-10T10:09:39.010168100Z",
     "start_time": "2024-06-10T10:09:38.918648100Z"
    }
   }
  },
  {
   "cell_type": "code",
   "execution_count": 23,
   "outputs": [],
   "source": [
    "def reduce_umbalance(images, labels):\n",
    "    remove_indexes = []\n",
    "    for i in range(0, len(images)):\n",
    "        unique_values_img = np.unique(labels[i], return_counts=True)[1]\n",
    "\n",
    "        if len(unique_values_img) == 1:\n",
    "            remove_indexes.append(i)\n",
    "        elif sum((unique_values_img / sum(unique_values_img))[1:]) < 0.05:\n",
    "            remove_indexes.append(i)\n",
    "    return remove_indexes"
   ],
   "metadata": {
    "collapsed": false,
    "ExecuteTime": {
     "end_time": "2024-06-10T10:09:39.010168100Z",
     "start_time": "2024-06-10T10:09:38.935850200Z"
    }
   }
  },
  {
   "cell_type": "code",
   "execution_count": 24,
   "outputs": [],
   "source": [
    "path = 'destination_folder/Task01_BrainTumour/imagesTr'\n",
    "labels_path = 'destination_folder/Task01_BrainTumour/labelsTr'\n",
    "file_names = find_file_names(path)\n",
    "\n",
    "random.shuffle(file_names)\n",
    "\n",
    "path_list = []\n",
    "path_label_list = []\n",
    "for filename in file_names:\n",
    "    path_list.append(os.path.join(path, filename))\n",
    "    path_label_list.append(os.path.join(labels_path, filename))\n",
    "\n",
    "train_labels = np.array([resize_label(read_single_mri(path)) for path in path_label_list[0:109]])\n",
    "#validation_labels = np.array([resize_label(read_single_mri(path)) for path in path_label_list[100:125]])\n",
    "train_imgs = np.array([resize_image(read_single_mri(path)) for path in path_list[0:109]])\n",
    "#validation_imgs = np.array([resize_image(read_single_mri(path)) for path in path_list[100:125]])\n",
    "test_labels = np.array([resize_label(read_single_mri(path)) for path in path_label_list[110:120]])\n",
    "test_imgs = np.array([resize_image(read_single_mri(path)) for path in path_list[110:120]])"
   ],
   "metadata": {
    "collapsed": false,
    "ExecuteTime": {
     "end_time": "2024-06-10T10:12:03.808522100Z",
     "start_time": "2024-06-10T10:09:38.962893900Z"
    }
   }
  },
  {
   "cell_type": "code",
   "execution_count": 25,
   "outputs": [],
   "source": [
    "train_imgs_2D = []\n",
    "train_labels_2D = []\n",
    "\n",
    "\n",
    "for i in range(0, train_labels.shape[0]):\n",
    "    image_3d = train_imgs[i]\n",
    "    label_3d = train_labels[i]\n",
    "\n",
    "    for j in range(0, image_3d.shape[0]):\n",
    "        label_slice = label_3d[j, :, :]\n",
    "        tmp = []\n",
    "        for z in range(0, 4):\n",
    "            mri_slice = image_3d[j, :, :, z]\n",
    "            tmp.append(mri_slice)\n",
    "\n",
    "        train_imgs_2D.append(tmp)\n",
    "        train_labels_2D.append(label_slice)\n",
    "    for j in range(0, image_3d.shape[0]):\n",
    "        label_slice = label_3d[:, j, :]\n",
    "        tmp = []\n",
    "        for z in range(0, 4):\n",
    "            mri_slice = image_3d[:, j, :, z]\n",
    "            tmp.append(mri_slice)\n",
    "\n",
    "        train_imgs_2D.append(tmp)\n",
    "        train_labels_2D.append(label_slice)\n",
    "    for j in range(0, image_3d.shape[0]):\n",
    "        label_slice = label_3d[:, :, j]\n",
    "        tmp = []\n",
    "        for z in range(0, 4):\n",
    "            mri_slice = image_3d[:, :, j, z]\n",
    "            tmp.append(mri_slice)\n",
    "\n",
    "        train_imgs_2D.append(tmp)\n",
    "        train_labels_2D.append(label_slice)"
   ],
   "metadata": {
    "collapsed": false,
    "ExecuteTime": {
     "end_time": "2024-06-10T10:12:05.045589900Z",
     "start_time": "2024-06-10T10:12:03.779132300Z"
    }
   }
  },
  {
   "cell_type": "code",
   "execution_count": 26,
   "outputs": [],
   "source": [
    "test_imgs_2D = []\n",
    "test_labels_2D = []\n",
    "\n",
    "for i in range(0, test_labels.shape[0]):\n",
    "    image_3d = test_imgs[i]\n",
    "    label_3d = test_labels[i]\n",
    "\n",
    "    for j in range(0, image_3d.shape[0]):\n",
    "        label_slice = label_3d[j, :, :]\n",
    "        tmp = []\n",
    "        for z in range(0, 4):\n",
    "            mri_slice = image_3d[j, :, :, z]\n",
    "            tmp.append(mri_slice)\n",
    "\n",
    "        test_imgs_2D.append(tmp)\n",
    "        test_labels_2D.append(label_slice)\n",
    "    for j in range(0, image_3d.shape[0]):\n",
    "        label_slice = label_3d[:, j, :]\n",
    "        tmp = []\n",
    "        for z in range(0, 4):\n",
    "            mri_slice = image_3d[:, j, :, z]\n",
    "            tmp.append(mri_slice)\n",
    "\n",
    "        test_imgs_2D.append(tmp)\n",
    "        test_labels_2D.append(label_slice)\n",
    "    for j in range(0, image_3d.shape[0]):\n",
    "        label_slice = label_3d[:, :, j]\n",
    "        tmp = []\n",
    "        for z in range(0, 4):\n",
    "            mri_slice = image_3d[:, :, j, z]\n",
    "            tmp.append(mri_slice)\n",
    "\n",
    "        test_imgs_2D.append(tmp)\n",
    "        test_labels_2D.append(label_slice)"
   ],
   "metadata": {
    "collapsed": false,
    "ExecuteTime": {
     "end_time": "2024-06-10T10:12:05.096960300Z",
     "start_time": "2024-06-10T10:12:05.037396900Z"
    }
   }
  },
  {
   "cell_type": "code",
   "execution_count": 27,
   "outputs": [
    {
     "name": "stdout",
     "output_type": "stream",
     "text": [
      "[0.95725152 0.02654215 0.00784103 0.0083653 ]\n"
     ]
    }
   ],
   "source": [
    "calculate_tumor_ratio_2d(train_labels_2D)\n"
   ],
   "metadata": {
    "collapsed": false,
    "ExecuteTime": {
     "end_time": "2024-06-10T10:12:20.812920500Z",
     "start_time": "2024-06-10T10:12:05.079645800Z"
    }
   }
  },
  {
   "cell_type": "code",
   "execution_count": 28,
   "outputs": [
    {
     "name": "stdout",
     "output_type": "stream",
     "text": [
      "[0.88075193 0.07128971 0.02314808 0.02481028]\n"
     ]
    }
   ],
   "source": [
    "indexes = reduce_umbalance(train_imgs_2D, train_labels_2D)\n",
    "\n",
    "for ind in sorted(indexes, reverse=True):\n",
    "    del train_imgs_2D[ind]\n",
    "    del train_labels_2D[ind]\n",
    "\n",
    "calculate_tumor_ratio_2d(train_labels_2D)"
   ],
   "metadata": {
    "collapsed": false,
    "ExecuteTime": {
     "end_time": "2024-06-10T10:12:35.896132Z",
     "start_time": "2024-06-10T10:12:20.811972900Z"
    }
   }
  },
  {
   "cell_type": "code",
   "execution_count": 29,
   "outputs": [
    {
     "name": "stdout",
     "output_type": "stream",
     "text": [
      "8982\n"
     ]
    }
   ],
   "source": [
    "removing_indexes = []\n",
    "for i in range(0, len(train_labels_2D)):\n",
    "    if (i % 3) != 0:\n",
    "        removing_indexes.append(i)\n",
    "        \n",
    "print(len(removing_indexes))\n",
    "\n",
    "for ind in sorted(removing_indexes, reverse=True):\n",
    "    del train_imgs_2D[ind]\n",
    "    del train_labels_2D[ind]"
   ],
   "metadata": {
    "collapsed": false,
    "ExecuteTime": {
     "end_time": "2024-06-10T10:12:35.994897900Z",
     "start_time": "2024-06-10T10:12:35.893234900Z"
    }
   }
  },
  {
   "cell_type": "code",
   "execution_count": 30,
   "outputs": [
    {
     "name": "stdout",
     "output_type": "stream",
     "text": [
      "4491\n"
     ]
    }
   ],
   "source": [
    "print(len(train_labels_2D))"
   ],
   "metadata": {
    "collapsed": false,
    "ExecuteTime": {
     "end_time": "2024-06-10T10:12:35.996878300Z",
     "start_time": "2024-06-10T10:12:35.955871900Z"
    }
   }
  },
  {
   "cell_type": "code",
   "source": [
    "X = np.array(train_imgs_2D)\n",
    "Y = np.array(train_labels_2D)"
   ],
   "metadata": {
    "id": "_qkt4AslGXRJ",
    "ExecuteTime": {
     "end_time": "2024-06-10T10:12:58.603432Z",
     "start_time": "2024-06-10T10:12:35.970002200Z"
    }
   },
   "execution_count": 31,
   "outputs": []
  },
  {
   "cell_type": "code",
   "source": [
    "N = len(X)\n",
    "train_index = int(0.8*N)\n",
    "X_train = X[:train_index]\n",
    "Y_train = Y[:train_index]\n",
    "X_validation = X[train_index:]\n",
    "Y_validation = Y[train_index:]"
   ],
   "metadata": {
    "id": "dAKPsyWbGHcP",
    "ExecuteTime": {
     "end_time": "2024-06-10T10:12:58.867095400Z",
     "start_time": "2024-06-10T10:12:58.670243Z"
    }
   },
   "execution_count": 32,
   "outputs": []
  },
  {
   "cell_type": "code",
   "source": [
    "def mask_multi_class(mask):\n",
    "  multi_mask = tf.one_hot(tf.cast(mask, tf.int32), depth=4, axis=0)\n",
    "  return multi_mask"
   ],
   "metadata": {
    "id": "zGKBzM4IGHYF",
    "ExecuteTime": {
     "end_time": "2024-06-10T10:12:59.046515Z",
     "start_time": "2024-06-10T10:12:59.036227200Z"
    }
   },
   "execution_count": 33,
   "outputs": []
  },
  {
   "cell_type": "code",
   "source": [
    "X_train = np.moveaxis(X_train, [1,3], [3,1])\n",
    "X_validation = np.moveaxis(X_validation, [1,3], [3,1])\n",
    "X_train.shape"
   ],
   "metadata": {
    "id": "FDQmqWiwGHSw",
    "ExecuteTime": {
     "end_time": "2024-06-10T10:12:59.293274200Z",
     "start_time": "2024-06-10T10:12:59.064675Z"
    }
   },
   "execution_count": 34,
   "outputs": [
    {
     "data": {
      "text/plain": "(3592, 128, 128, 4)"
     },
     "execution_count": 34,
     "metadata": {},
     "output_type": "execute_result"
    }
   ]
  },
  {
   "cell_type": "code",
   "source": [
    "Y_train_multi = np.zeros((train_index,4,128,128))\n",
    "Y_validation_multi = np.zeros((N-train_index,4,128,128))\n",
    "Y_test_multi = np.zeros((len(test_labels_2D),4,128,128))\n",
    "for i in range(0,len(Y_train)):\n",
    "  Y_train_multi[i] = mask_multi_class(Y_train[i])\n",
    "\n",
    "for i in range(0,len(Y_validation)):\n",
    "  Y_validation_multi[i] = mask_multi_class(Y_validation[i])\n",
    "  \n",
    "for i in range(0, len(test_labels_2D)):\n",
    "    Y_test_multi[i] = mask_multi_class(test_labels_2D[i])\n",
    "\n",
    "Y_train_multi = np.moveaxis(Y_train_multi, [1,3], [3,1])\n",
    "Y_validation_multi = np.moveaxis(Y_validation_multi, [1,3], [3,1])\n",
    "Y_train_multi.shape"
   ],
   "metadata": {
    "id": "U_WiJ-OHG8Ey",
    "ExecuteTime": {
     "end_time": "2024-06-10T10:13:08.724024700Z",
     "start_time": "2024-06-10T10:12:59.229042300Z"
    }
   },
   "execution_count": 35,
   "outputs": [
    {
     "data": {
      "text/plain": "(3592, 128, 128, 4)"
     },
     "execution_count": 35,
     "metadata": {},
     "output_type": "execute_result"
    }
   ]
  },
  {
   "cell_type": "code",
   "execution_count": 36,
   "outputs": [],
   "source": [
    "with open('train_imgs_2D.npy', 'wb') as f:\n",
    "    np.save(f, X_train)\n",
    "with open('validation_imgs_2D.npy', 'wb') as f:\n",
    "    np.save(f, X_validation)\n",
    "with open('test_imgs_2D.npy', 'wb') as f:\n",
    "    np.save(f, np.array(test_imgs_2D))"
   ],
   "metadata": {
    "collapsed": false,
    "ExecuteTime": {
     "end_time": "2024-06-10T10:13:48.465759100Z",
     "start_time": "2024-06-10T10:13:08.720785Z"
    }
   }
  },
  {
   "cell_type": "code",
   "execution_count": 37,
   "outputs": [
    {
     "data": {
      "text/plain": "numpy.ndarray"
     },
     "execution_count": 37,
     "metadata": {},
     "output_type": "execute_result"
    }
   ],
   "source": [
    "type(Y_train_multi)"
   ],
   "metadata": {
    "collapsed": false,
    "ExecuteTime": {
     "end_time": "2024-06-10T10:13:48.530948100Z",
     "start_time": "2024-06-10T10:13:48.514668800Z"
    }
   }
  },
  {
   "cell_type": "code",
   "execution_count": 38,
   "outputs": [],
   "source": [
    "with open('train_labels_2D.npy', 'wb') as f:\n",
    "    np.save(f, Y_train_multi)\n",
    "with open('validation_labels_2D.npy', 'wb') as f:\n",
    "    np.save(f, Y_validation_multi)\n",
    "with open('test_labels_2D.npy', 'wb') as f:\n",
    "    np.save(f, np.array(Y_test_multi))"
   ],
   "metadata": {
    "collapsed": false,
    "ExecuteTime": {
     "end_time": "2024-06-10T10:14:16.785561100Z",
     "start_time": "2024-06-10T10:13:48.528947500Z"
    }
   }
  },
  {
   "cell_type": "code",
   "execution_count": 38,
   "outputs": [],
   "source": [],
   "metadata": {
    "collapsed": false,
    "ExecuteTime": {
     "end_time": "2024-06-10T10:14:16.800790900Z",
     "start_time": "2024-06-10T10:14:16.786609400Z"
    }
   }
  },
  {
   "cell_type": "code",
   "execution_count": 38,
   "outputs": [],
   "source": [],
   "metadata": {
    "collapsed": false,
    "ExecuteTime": {
     "end_time": "2024-06-10T10:14:16.831359100Z",
     "start_time": "2024-06-10T10:14:16.804787900Z"
    }
   }
  }
 ]
}
